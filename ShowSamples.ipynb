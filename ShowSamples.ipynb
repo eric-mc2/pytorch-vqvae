{
 "cells": [
  {
   "cell_type": "code",
   "execution_count": 1,
   "metadata": {},
   "outputs": [],
   "source": [
    "import torch\n",
    "from torchvision.utils import make_grid\n",
    "\n",
    "from modules import GatedPixelCNN"
   ]
  },
  {
   "cell_type": "code",
   "execution_count": 2,
   "metadata": {},
   "outputs": [],
   "source": [
    "def generate_samples(prior, im_shape, batch_size, K):\n",
    "    label = torch.tensor([0,1]).expand(64, 2).contiguous().view(-1)\n",
    "    label = label.long()\n",
    "\n",
    "    x_tilde = prior.generate(label, shape=im_shape, batch_size=batch_size)\n",
    "    images = x_tilde.cpu().data.float() / (K - 1)\n",
    "    return images"
   ]
  },
  {
   "cell_type": "code",
   "execution_count": 3,
   "metadata": {},
   "outputs": [
    {
     "name": "stdout",
     "output_type": "stream",
     "text": [
      "Skipping initialization of  GatedMaskedConv2d\n",
      "Skipping initialization of  GatedMaskedConv2d\n",
      "Skipping initialization of  GatedMaskedConv2d\n",
      "Skipping initialization of  GatedMaskedConv2d\n",
      "Skipping initialization of  GatedMaskedConv2d\n",
      "Skipping initialization of  GatedMaskedConv2d\n",
      "Skipping initialization of  GatedMaskedConv2d\n",
      "Skipping initialization of  GatedMaskedConv2d\n",
      "Skipping initialization of  GatedMaskedConv2d\n",
      "Skipping initialization of  GatedMaskedConv2d\n",
      "Skipping initialization of  GatedMaskedConv2d\n",
      "Skipping initialization of  GatedMaskedConv2d\n",
      "Skipping initialization of  GatedMaskedConv2d\n",
      "Skipping initialization of  GatedMaskedConv2d\n",
      "Skipping initialization of  GatedMaskedConv2d\n"
     ]
    },
    {
     "data": {
      "text/plain": [
       "<All keys matched successfully>"
      ]
     },
     "execution_count": 3,
     "metadata": {},
     "output_type": "execute_result"
    }
   ],
   "source": [
    "im_shape = (64, 64)\n",
    "batch_size = 128\n",
    "k = 512\n",
    "hidden_size_prior = 64\n",
    "num_layers = 15\n",
    "num_channels = 3\n",
    "prior = GatedPixelCNN(k, hidden_size_prior, num_layers, n_classes=2)\n",
    "model_file = './models/dbg-prior-prior/best.pt'\n",
    "checkpoint = torch.load(model_file, map_location=torch.device('cpu'))\n",
    "prior.load_state_dict(checkpoint['model_state_dict'])"
   ]
  },
  {
   "cell_type": "code",
   "execution_count": null,
   "metadata": {},
   "outputs": [
    {
     "name": "stderr",
     "output_type": "stream",
     "text": [
      "/home/echandler/.conda/envs/vqvae/lib/python3.9/site-packages/torch/nn/functional.py:1795: UserWarning: nn.functional.tanh is deprecated. Use torch.tanh instead.\n",
      "  warnings.warn(\"nn.functional.tanh is deprecated. Use torch.tanh instead.\")\n",
      "/home/echandler/.conda/envs/vqvae/lib/python3.9/site-packages/torch/nn/functional.py:1806: UserWarning: nn.functional.sigmoid is deprecated. Use torch.sigmoid instead.\n",
      "  warnings.warn(\"nn.functional.sigmoid is deprecated. Use torch.sigmoid instead.\")\n"
     ]
    }
   ],
   "source": [
    "samples = generate_samples(prior, im_shape, batch_size ,k)\n",
    "grid = make_grid(samples, nrow=8, range=(-1, 1), normalize=True)\n",
    "grid"
   ]
  },
  {
   "cell_type": "code",
   "execution_count": null,
   "metadata": {},
   "outputs": [],
   "source": []
  }
 ],
 "metadata": {
  "interpreter": {
   "hash": "b739f523a1a227607a4f82d78ec86f96bf58dc229e757ac31f508a469d3e3d0f"
  },
  "kernelspec": {
   "display_name": "Python [conda env:.conda-vqvae] *",
   "language": "python",
   "name": "conda-env-.conda-vqvae-py"
  },
  "language_info": {
   "codemirror_mode": {
    "name": "ipython",
    "version": 3
   },
   "file_extension": ".py",
   "mimetype": "text/x-python",
   "name": "python",
   "nbconvert_exporter": "python",
   "pygments_lexer": "ipython3",
   "version": "3.9.7"
  }
 },
 "nbformat": 4,
 "nbformat_minor": 2
}
